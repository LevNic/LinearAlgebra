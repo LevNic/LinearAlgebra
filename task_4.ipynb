{
 "cells": [
  {
   "cell_type": "markdown",
   "metadata": {},
   "source": [
    "1. Решить систему уравнений методом Гаусса:"
   ]
  },
  {
   "cell_type": "markdown",
   "metadata": {},
   "source": [
    "𝑥1+𝑥2−𝑥3−2 * 𝑥4=0,  \n",
    "2 * 𝑥1+𝑥2−𝑥3+𝑥4=−2,  \n",
    "𝑥1+𝑥2−3 * 𝑥3+𝑥4=4.  "
   ]
  },
  {
   "cell_type": "code",
   "execution_count": 1,
   "metadata": {},
   "outputs": [],
   "source": [
    "import numpy as np"
   ]
  },
  {
   "cell_type": "code",
   "execution_count": 638,
   "metadata": {},
   "outputs": [],
   "source": [
    "# Матрица для примера из урока\n",
    "ab = np.array([[2.0, 1.0, 1.0, 5.0],\n",
    "             [4.0, -6.0, 0.0, -2.0],\n",
    "             [-2.0, 7.0, 2.0, 9.0]])"
   ]
  },
  {
   "cell_type": "code",
   "execution_count": 639,
   "metadata": {},
   "outputs": [],
   "source": [
    "def linear_equation_system(a):\n",
    "    # Разделим расширенную матрицу на две\n",
    "    b = np.copy(a[:,:-1])\n",
    "    print('Матрица коэффициэнтов')\n",
    "    print(b)\n",
    "    c = np.copy(a[:,-1:].T[0])\n",
    "    print('Свободные члены')\n",
    "    print(c)\n",
    "    # Проверим условия существования решений\n",
    "    rank_b = np.linalg.matrix_rank(b)\n",
    "    rank_a = np.linalg.matrix_rank(a)\n",
    "    if rank_a == rank_b and rank_a == len(b[0]):\n",
    "        print('Ранг матрицы коэффициэнтов равен рангу расширенной матрицы и количеству переменных.\\nПо теореме Кронекера-Капелии имеется 1 решение.')\n",
    "    elif rank_a == rank_b and rank_a < len(b[0]):\n",
    "        print('Ранг матрицы коэффициэнтов равен рангу расширенной матрицы и меньше количества переменных.\\nПо теореме Кронекера-Капелии имеется бесконечное количество решений.')\n",
    "    elif rank_b < rank_a:\n",
    "        print('Ранг матрицы коэффициэнтов меньше ранга расширенной матрицы.\\nПо теореме Кронекера-Капелии система не совместна.')\n",
    "    elif rank_b == len(b[0]) and c == 0:\n",
    "        x = [0 for i in range(len(b[0]))]\n",
    "        print('Однородная система имеет только тривиальные решения')\n",
    "        return b, c, x\n",
    "    if np.linalg.det(b) == 0 or a[0][0] == 0:\n",
    "        print('Система решения не имеет')\n",
    "        return 0, 0, 0\n",
    "    print('Расширенная матрица системы')\n",
    "    print(a)\n",
    "    # Преобразуем матрицу в верхнюю треугольную\n",
    "    for i in range(len(a)-1):\n",
    "        for j in range(i+1, len(a)):\n",
    "            k = a[j][i] / a[i][i]\n",
    "            for n in range(len(a[0])):\n",
    "                a[j][n] = a[j][n] - a[i][n] * k\n",
    "            \n",
    "    print('Преобразованная матрица')        \n",
    "    print(a)\n",
    "    # Находим корни\n",
    "    x = []\n",
    "    for i in range(len(a)-1, -1, -1):\n",
    "        if len(x) > 0:\n",
    "            for n in range(len(x)):\n",
    "                a[i][-1] = a[i][-1] - a[i][-2-n] * x[n-1]\n",
    "        if a[i][i] == 0 and a[i][-1] == 0:\n",
    "            print('Система имеет бесконечное множество решений')\n",
    "            return 1, 1, 1\n",
    "        elif a[i][i] == 0 and a[i][-1] != 0:\n",
    "            print('Система решений не имеет')\n",
    "            return 0, 0, 0\n",
    "        xn = a[i][-1] / a[i][i]\n",
    "        x.append(xn)\n",
    "    x.reverse()\n",
    "    print('Результат')\n",
    "    print(x)\n",
    "    return b, c, x"
   ]
  },
  {
   "cell_type": "code",
   "execution_count": 620,
   "metadata": {},
   "outputs": [],
   "source": [
    "# Проверка\n",
    "def check(b, c, x):\n",
    "#     print('Проверка')\n",
    "#     print(c)\n",
    "#     print('*'*10)\n",
    "#     print(b)\n",
    "#     print('*'*10)\n",
    "#     print(x)\n",
    "#     print('*'*10)\n",
    "    for i in range(len(x)):\n",
    "        k = b[i] * x\n",
    "        s = 0\n",
    "        for j in range(len(k)):\n",
    "            s += k[j]\n",
    "        print(c[i], '=', s)\n",
    "    print('*'*10)"
   ]
  },
  {
   "cell_type": "code",
   "execution_count": 621,
   "metadata": {},
   "outputs": [
    {
     "name": "stdout",
     "output_type": "stream",
     "text": [
      "Матрица коэффициэнтов\n",
      "[[ 2.  1.  1.]\n",
      " [ 4. -6.  0.]\n",
      " [-2.  7.  2.]]\n",
      "Свободные члены\n",
      "[ 5. -2.  9.]\n",
      "Ранг матрицы коэффициэнтов равен рангу расширенной матрицы и количеству переменных.\n",
      "По теореме Кронекера-Капелии имеется 1 решение.\n",
      "Расширенная матрица системы\n",
      "[[ 2.  1.  1.  5.]\n",
      " [ 4. -6.  0. -2.]\n",
      " [-2.  7.  2.  9.]]\n",
      "Преобразованная матрица\n",
      "[[  2.   1.   1.   5.]\n",
      " [  0.  -8.  -2. -12.]\n",
      " [  0.   0.   1.   2.]]\n",
      "Результат\n",
      "[1.0, 1.0, 2.0]\n"
     ]
    }
   ],
   "source": [
    "b, c, x = linear_equation_system(ab)"
   ]
  },
  {
   "cell_type": "code",
   "execution_count": 622,
   "metadata": {},
   "outputs": [
    {
     "name": "stdout",
     "output_type": "stream",
     "text": [
      "5.0 = 5.0\n",
      "-2.0 = -2.0\n",
      "9.0 = 9.0\n",
      "**********\n"
     ]
    }
   ],
   "source": [
    "check(b, c, x)"
   ]
  },
  {
   "cell_type": "code",
   "execution_count": 623,
   "metadata": {},
   "outputs": [],
   "source": [
    "a = np.array([[1.0, 1.0, -1.0, -2.0, 0.0],\n",
    "             [2, 1, -1, 1, -2],\n",
    "             [1, 1, -3, 1, 4],\n",
    "             [0, 0, 0, 0, 0]])"
   ]
  },
  {
   "cell_type": "code",
   "execution_count": 624,
   "metadata": {},
   "outputs": [
    {
     "name": "stdout",
     "output_type": "stream",
     "text": [
      "Матрица коэффициэнтов\n",
      "[[ 1.  1. -1. -2.]\n",
      " [ 2.  1. -1.  1.]\n",
      " [ 1.  1. -3.  1.]\n",
      " [ 0.  0.  0.  0.]]\n",
      "Свободные члены\n",
      "[ 0. -2.  4.  0.]\n",
      "Ранг матрицы коэффициэнтов равен рангу расширенной матрицы и меньше количества переменных.\n",
      "По теореме Кронекера-Капелии имеется бесконечное количество решений.\n",
      "Система решения не имеет\n"
     ]
    },
    {
     "data": {
      "text/plain": [
       "(0, 0, 0)"
      ]
     },
     "execution_count": 624,
     "metadata": {},
     "output_type": "execute_result"
    }
   ],
   "source": [
    "linear_equation_system(a)"
   ]
  },
  {
   "cell_type": "markdown",
   "metadata": {},
   "source": [
    "Систему решить не смог, поскольку нейзвестных 3, а уравнения 4."
   ]
  },
  {
   "cell_type": "markdown",
   "metadata": {},
   "source": [
    "2. Проверить на совместность и выяснить, сколько решений будет иметь система линейных уравнений:"
   ]
  },
  {
   "cell_type": "markdown",
   "metadata": {},
   "source": [
    "a)  \n",
    "\n",
    "𝑥1−2 * 𝑥2=13  \n",
    "𝑥1−4 * 𝑥2=7"
   ]
  },
  {
   "cell_type": "code",
   "execution_count": 625,
   "metadata": {},
   "outputs": [],
   "source": [
    "a1 = np.array([[1, -2, 13],\n",
    "              [1, -4, 7]])"
   ]
  },
  {
   "cell_type": "code",
   "execution_count": 626,
   "metadata": {},
   "outputs": [
    {
     "name": "stdout",
     "output_type": "stream",
     "text": [
      "Матрица коэффициэнтов\n",
      "[[ 1 -2]\n",
      " [ 1 -4]]\n",
      "Свободные члены\n",
      "[13  7]\n",
      "Ранг матрицы коэффициэнтов равен рангу расширенной матрицы и количеству переменных.\n",
      "По теореме Кронекера-Капелии имеется 1 решение.\n",
      "Расширенная матрица системы\n",
      "[[ 1 -2 13]\n",
      " [ 1 -4  7]]\n",
      "Преобразованная матрица\n",
      "[[ 1 -2 13]\n",
      " [ 0 -2 -6]]\n",
      "Результат\n",
      "[19.0, 3.0]\n"
     ]
    }
   ],
   "source": [
    "b1, c1, x1 = linear_equation_system(a1)"
   ]
  },
  {
   "cell_type": "code",
   "execution_count": 627,
   "metadata": {},
   "outputs": [
    {
     "name": "stdout",
     "output_type": "stream",
     "text": [
      "13 = 13.0\n",
      "7 = 7.0\n",
      "**********\n"
     ]
    }
   ],
   "source": [
    "check(b1, c1, x1)"
   ]
  },
  {
   "cell_type": "markdown",
   "metadata": {},
   "source": [
    "Система имеет решение, значит совместна."
   ]
  },
  {
   "cell_type": "markdown",
   "metadata": {},
   "source": [
    "б)  \n",
    " \n",
    "2 * 𝑥1 − 𝑥2 + 5 * 𝑥3 = 10\n",
    "\n",
    "𝑥1 + 𝑥2 − 3 * 𝑥3 = −2  \n",
    "\n",
    "2 * 𝑥1 + 4 * 𝑥2 + 𝑥3 = 1"
   ]
  },
  {
   "cell_type": "code",
   "execution_count": 628,
   "metadata": {},
   "outputs": [],
   "source": [
    "a2 = np.array([[2.0, -1.0, 5.0, 10.0],\n",
    "              [1.0, 1.0, -3.0, -2.0],\n",
    "              [2.0, 4.0, 1.0, 1.0]])"
   ]
  },
  {
   "cell_type": "code",
   "execution_count": 629,
   "metadata": {},
   "outputs": [
    {
     "name": "stdout",
     "output_type": "stream",
     "text": [
      "Матрица коэффициэнтов\n",
      "[[ 2. -1.  5.]\n",
      " [ 1.  1. -3.]\n",
      " [ 2.  4.  1.]]\n",
      "Свободные члены\n",
      "[10. -2.  1.]\n",
      "Ранг матрицы коэффициэнтов равен рангу расширенной матрицы и количеству переменных.\n",
      "По теореме Кронекера-Капелии имеется 1 решение.\n",
      "Расширенная матрица системы\n",
      "[[ 2. -1.  5. 10.]\n",
      " [ 1.  1. -3. -2.]\n",
      " [ 2.  4.  1.  1.]]\n",
      "Преобразованная матрица\n",
      "[[ 2.         -1.          5.         10.        ]\n",
      " [ 0.          1.5        -5.5        -7.        ]\n",
      " [ 0.          0.         14.33333333 14.33333333]]\n",
      "Результат\n",
      "[8.0, -1.0, 1.0]\n"
     ]
    }
   ],
   "source": [
    "b2, c2, x2 = linear_equation_system(a2)"
   ]
  },
  {
   "cell_type": "code",
   "execution_count": 630,
   "metadata": {},
   "outputs": [
    {
     "name": "stdout",
     "output_type": "stream",
     "text": [
      "10.0 = 22.0\n",
      "-2.0 = 4.0\n",
      "1.0 = 13.0\n",
      "**********\n"
     ]
    }
   ],
   "source": [
    "check(b2, c2, x2)"
   ]
  },
  {
   "cell_type": "markdown",
   "metadata": {},
   "source": [
    "Странный результат"
   ]
  },
  {
   "cell_type": "markdown",
   "metadata": {},
   "source": [
    "в)  \n",
    "𝑥1 + 2 * 𝑥2 + 5 * 𝑥3 = 4  \n",
    "\n",
    "3 * 𝑥1 + 𝑥2 − 8 * 𝑥3 = −2"
   ]
  },
  {
   "cell_type": "code",
   "execution_count": 631,
   "metadata": {},
   "outputs": [],
   "source": [
    "a3 = np.array([[1.0, 2.0, 5.0, 4.0],\n",
    "              [3.0, 1.0, -8.0, -2.0],\n",
    "              [0, 0, 0, 0]])"
   ]
  },
  {
   "cell_type": "code",
   "execution_count": 632,
   "metadata": {},
   "outputs": [
    {
     "name": "stdout",
     "output_type": "stream",
     "text": [
      "Матрица коэффициэнтов\n",
      "[[ 1.  2.  5.]\n",
      " [ 3.  1. -8.]\n",
      " [ 0.  0.  0.]]\n",
      "Свободные члены\n",
      "[ 4. -2.  0.]\n",
      "Ранг матрицы коэффициэнтов равен рангу расширенной матрицы и меньше количества переменных.\n",
      "По теореме Кронекера-Капелии имеется бесконечное количество решений.\n",
      "Система решения не имеет\n"
     ]
    }
   ],
   "source": [
    "b3, c3, x3 = linear_equation_system(a3)"
   ]
  },
  {
   "cell_type": "markdown",
   "metadata": {},
   "source": [
    "3. Проверить на совместность и выяснить, сколько решений будет иметь система линейных уравнений, заданная расширенной матрицей"
   ]
  },
  {
   "cell_type": "code",
   "execution_count": 633,
   "metadata": {},
   "outputs": [],
   "source": [
    "a4 = np.array([[1.0, 3.0, -2.0, 4.0, 3.0],\n",
    "              [0, 5, 0, 1, 2],\n",
    "              [0, 0, 3, 0, 4],\n",
    "              [0, 0, 0, 2, 1]])"
   ]
  },
  {
   "cell_type": "code",
   "execution_count": 634,
   "metadata": {},
   "outputs": [
    {
     "name": "stdout",
     "output_type": "stream",
     "text": [
      "Матрица коэффициэнтов\n",
      "[[ 1.  3. -2.  4.]\n",
      " [ 0.  5.  0.  1.]\n",
      " [ 0.  0.  3.  0.]\n",
      " [ 0.  0.  0.  2.]]\n",
      "Свободные члены\n",
      "[3. 2. 4. 1.]\n",
      "Ранг матрицы коэффициэнтов равен рангу расширенной матрицы и количеству переменных.\n",
      "По теореме Кронекера-Капелии имеется 1 решение.\n",
      "Расширенная матрица системы\n",
      "[[ 1.  3. -2.  4.  3.]\n",
      " [ 0.  5.  0.  1.  2.]\n",
      " [ 0.  0.  3.  0.  4.]\n",
      " [ 0.  0.  0.  2.  1.]]\n",
      "Преобразованная матрица\n",
      "[[ 1.  3. -2.  4.  3.]\n",
      " [ 0.  5.  0.  1.  2.]\n",
      " [ 0.  0.  3.  0.  4.]\n",
      " [ 0.  0.  0.  2.  1.]]\n",
      "Результат\n",
      "[-0.5333333333333332, 0.13333333333333336, 1.3333333333333333, 0.5]\n"
     ]
    }
   ],
   "source": [
    "b4, c4, x4 = linear_equation_system(a4)"
   ]
  },
  {
   "cell_type": "code",
   "execution_count": 635,
   "metadata": {},
   "outputs": [
    {
     "name": "stdout",
     "output_type": "stream",
     "text": [
      "3.0 = -0.7999999999999998\n",
      "2.0 = 1.1666666666666667\n",
      "4.0 = 4.0\n",
      "1.0 = 1.0\n",
      "**********\n"
     ]
    }
   ],
   "source": [
    "check(b4, c4, x4)"
   ]
  },
  {
   "cell_type": "markdown",
   "metadata": {},
   "source": [
    "Странное решение."
   ]
  },
  {
   "cell_type": "markdown",
   "metadata": {},
   "source": [
    "4. Дана система линейных уравнений, заданная расширенной матрицей. Найти соотношение между параметрами  𝑎 ,  𝑏  и  𝑐 , при которых система является несовместной."
   ]
  },
  {
   "cell_type": "code",
   "execution_count": 636,
   "metadata": {},
   "outputs": [],
   "source": [
    "a5 = np.array([[1, 2, 3, 0],\n",
    "               [4, 5, 6, 0],\n",
    "               [7, 8, 9, 0]])"
   ]
  },
  {
   "cell_type": "code",
   "execution_count": 637,
   "metadata": {},
   "outputs": [
    {
     "name": "stdout",
     "output_type": "stream",
     "text": [
      "Матрица коэффициэнтов\n",
      "[[1 2 3]\n",
      " [4 5 6]\n",
      " [7 8 9]]\n",
      "Свободные члены\n",
      "[0 0 0]\n",
      "Ранг матрицы коэффициэнтов равен рангу расширенной матрицы и меньше количества переменных.\n",
      "По теореме Кронекера-Капелии имеется бесконечное количество решений.\n",
      "Расширенная матрица системы\n",
      "[[1 2 3 0]\n",
      " [4 5 6 0]\n",
      " [7 8 9 0]]\n",
      "Преобразованная матрица\n",
      "[[ 1  2  3  0]\n",
      " [ 0 -3 -6  0]\n",
      " [ 0  0  0  0]]\n",
      "Система имеет бесконечное множество решений\n"
     ]
    }
   ],
   "source": [
    "b5, c5, x5 = linear_equation_system(a5)"
   ]
  },
  {
   "cell_type": "markdown",
   "metadata": {},
   "source": [
    "#### Методичка 2\n",
    "1. Решить систему уравнений методом Крамера:"
   ]
  },
  {
   "cell_type": "markdown",
   "metadata": {},
   "source": [
    "a)  \n",
    "𝑥1 − 2 * 𝑥2 = 13  \n",
    "𝑥1 − 4 * 𝑥2 = 7"
   ]
  },
  {
   "cell_type": "code",
   "execution_count": 711,
   "metadata": {},
   "outputs": [],
   "source": [
    "def kramer(a):\n",
    "    # Разделим расширенную матрицу на две\n",
    "    b = np.copy(a[:,:-1])\n",
    "    print('Матрица коэффициэнтов')\n",
    "    print(b)\n",
    "    c = np.copy(a[:,-1:].T[0])\n",
    "    print('Свободные члены')\n",
    "    print(c)\n",
    "    if len(b) != len(c):\n",
    "        print('Методом Крамера систему не решить')\n",
    "        return 0, 0, 0\n",
    "    elif np.linalg.det(b) == 0:\n",
    "        print('Система решений не имеет')\n",
    "        return 0, 0, 0\n",
    "    d = np.zeros([len(b), len(b)])\n",
    "    x = []\n",
    "    for i in range(len(b[0])):\n",
    "        b[:, i] = c\n",
    "        d = np. copy(b)\n",
    "        b = np.copy(a[:,:-1])\n",
    "        print('Матрица A', i)\n",
    "        print(d)\n",
    "        x.append(np.linalg.det(d) / np.linalg.det(b))\n",
    "    print('Результат')\n",
    "    print(x)\n",
    "    return b, c, x"
   ]
  },
  {
   "cell_type": "code",
   "execution_count": 712,
   "metadata": {},
   "outputs": [],
   "source": [
    "a6 = np.array([[1, -2, 13],\n",
    "              [1, -4, 7]])"
   ]
  },
  {
   "cell_type": "code",
   "execution_count": 713,
   "metadata": {},
   "outputs": [
    {
     "name": "stdout",
     "output_type": "stream",
     "text": [
      "Матрица коэффициэнтов\n",
      "[[ 1 -2]\n",
      " [ 1 -4]]\n",
      "Свободные члены\n",
      "[13  7]\n",
      "Матрица A 0\n",
      "[[13 -2]\n",
      " [ 7 -4]]\n",
      "Матрица A 1\n",
      "[[ 1 13]\n",
      " [ 1  7]]\n",
      "Результат\n",
      "[18.999999999999996, 3.0]\n"
     ]
    }
   ],
   "source": [
    "b6, c6, x6 = kramer(a6)"
   ]
  },
  {
   "cell_type": "code",
   "execution_count": 714,
   "metadata": {},
   "outputs": [
    {
     "name": "stdout",
     "output_type": "stream",
     "text": [
      "13 = 12.999999999999996\n",
      "7 = 6.9999999999999964\n",
      "**********\n"
     ]
    }
   ],
   "source": [
    "check(b6, c6, x6)"
   ]
  },
  {
   "cell_type": "markdown",
   "metadata": {},
   "source": [
    "б)  \n",
    "2 * 𝑥1 − 𝑥2 + 5 * 𝑥3 = 10  \n",
    "𝑥1 + 𝑥2 − 3 * 𝑥3 = −2  \n",
    "2 * 𝑥1 + 4 * 𝑥2 + 𝑥3 = 1"
   ]
  },
  {
   "cell_type": "code",
   "execution_count": 715,
   "metadata": {},
   "outputs": [],
   "source": [
    "a7 = np.array([[2, -1, 5, 10],\n",
    "              [1, 1, -3, -2],\n",
    "              [2, 4, 1, 1]])"
   ]
  },
  {
   "cell_type": "code",
   "execution_count": 716,
   "metadata": {},
   "outputs": [
    {
     "name": "stdout",
     "output_type": "stream",
     "text": [
      "Матрица коэффициэнтов\n",
      "[[ 2 -1  5]\n",
      " [ 1  1 -3]\n",
      " [ 2  4  1]]\n",
      "Свободные члены\n",
      "[10 -2  1]\n",
      "Матрица A 0\n",
      "[[10 -1  5]\n",
      " [-2  1 -3]\n",
      " [ 1  4  1]]\n",
      "Матрица A 1\n",
      "[[ 2 10  5]\n",
      " [ 1 -2 -3]\n",
      " [ 2  1  1]]\n",
      "Матрица A 2\n",
      "[[ 2 -1 10]\n",
      " [ 1  1 -2]\n",
      " [ 2  4  1]]\n",
      "Результат\n",
      "[2.0000000000000018, -1.0000000000000009, 1.0]\n"
     ]
    }
   ],
   "source": [
    "b7, c7, x7 = kramer(a7)"
   ]
  },
  {
   "cell_type": "code",
   "execution_count": 717,
   "metadata": {},
   "outputs": [
    {
     "name": "stdout",
     "output_type": "stream",
     "text": [
      "10 = 10.000000000000004\n",
      "-2 = -1.9999999999999991\n",
      "1 = 1.0\n",
      "**********\n"
     ]
    }
   ],
   "source": [
    "check(b7, c7, x7)"
   ]
  },
  {
   "cell_type": "code",
   "execution_count": null,
   "metadata": {},
   "outputs": [],
   "source": []
  }
 ],
 "metadata": {
  "kernelspec": {
   "display_name": "Python 3",
   "language": "python",
   "name": "python3"
  },
  "language_info": {
   "codemirror_mode": {
    "name": "ipython",
    "version": 3
   },
   "file_extension": ".py",
   "mimetype": "text/x-python",
   "name": "python",
   "nbconvert_exporter": "python",
   "pygments_lexer": "ipython3",
   "version": "3.7.4"
  }
 },
 "nbformat": 4,
 "nbformat_minor": 2
}
