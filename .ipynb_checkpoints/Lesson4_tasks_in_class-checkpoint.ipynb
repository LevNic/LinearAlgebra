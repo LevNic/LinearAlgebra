{
 "cells": [
  {
   "cell_type": "markdown",
   "metadata": {
    "colab_type": "text",
    "id": "2-Cl4IptgiKR"
   },
   "source": [
    "__Метод Гаусса__\n",
    "\n",
    "Допустим, что коэффициент $a_{11}\\neq0$. Разделим коэффициенты первого из уравнений (включая и свободный член) на коэффициент $a_{11}$, который мы будем называть ведущим элементом (1-го шага) для получения единичного коэффициента у неизвестной $x_{11}$ и обозначим\n",
    "\n",
    "$$a'_{1j}=\\frac{a_{1j}}{a_{11}}~(j>1),$$\n",
    "\n",
    "$$b'_{1}=\\frac{b_{1}}{a_{11}}.$$\n",
    "\n",
    "Получим новое уравнение на месте первого:\n",
    "\n",
    "$$x_{1}+a'_{12}x_{2}+...+a'_{1n}x_{n}=b'_{1}.$$"
   ]
  },
  {
   "cell_type": "markdown",
   "metadata": {
    "colab_type": "text",
    "id": "qT2x1WAphLtA"
   },
   "source": [
    "Далее исключим $x_{1}$ из всех последующих уравнений посредством вычитания из этих уравнений полученного первого уравнения, умноженного соответственно на числа $a_{21}, a_{31},...,a_{n1}$. Преобразованные уравнения будут иметь вид\n",
    "\n",
    "$$a_{22}^{(1)}x_{2}+...+a_{2n}^{(1)}x_{n}=b_{2}^{(1)},$$"
   ]
  },
  {
   "cell_type": "markdown",
   "metadata": {
    "colab_type": "text",
    "id": "6l1BJv6Hfw2-"
   },
   "source": [
    "__Пример 1__\n",
    "\n",
    "Решим систему уравнений 1-м способом:\n",
    "\n",
    "$$\\begin{cases}\n",
    "2x_{1}+x_{2}+x_{3}=5, \\\\\n",
    "4x_{1}-6x_{2}=-2, \\\\\n",
    "-2x_{1}+7x_{2}+2x_{3}=9.\n",
    "\\end{cases}$$\n",
    "\n",
    "Запишем расширенную матрицу системы:\n",
    "\n",
    "$$\\begin{pmatrix}\n",
    "\\left.\\begin{matrix}\n",
    "2 & 1 & 1 \\\\ \n",
    "4 & -6 & 0 \\\\ \n",
    "-2 & 7 & 2\n",
    "\\end{matrix}\\right|\n",
    "\\begin{matrix}\n",
    "5\\\\ \n",
    "-2\\\\\n",
    "9\n",
    "\\end{matrix}\n",
    "\\end{pmatrix}.$$"
   ]
  },
  {
   "cell_type": "markdown",
   "metadata": {
    "colab_type": "text",
    "id": "qQzGtit-fw1B"
   },
   "source": [
    "__Пример 2__"
   ]
  },
  {
   "cell_type": "markdown",
   "metadata": {
    "colab_type": "text",
    "id": "-z8e57c4m9jO"
   },
   "source": [
    "Решим систему уравнений 2-м способом (методом элементарных преобразований):\n",
    "\n",
    "$$\\begin{cases}\n",
    "x_{1}+x_{2}-x_{3}=0, \\\\\n",
    "2x_{1}-x_{2}-x_{3}=-2, \\\\\n",
    "4x_{1}+x_{2}-3x_{3}=9.\n",
    "\\end{cases}$$"
   ]
  },
  {
   "cell_type": "markdown",
   "metadata": {
    "colab_type": "text",
    "id": "b-Rm_7UrfwvY"
   },
   "source": [
    "__Пример 3__"
   ]
  },
  {
   "cell_type": "markdown",
   "metadata": {
    "colab_type": "text",
    "id": "uJ_qK84Oo1WB"
   },
   "source": [
    "Решим систему уравнений 2-м способом:\n",
    "\n",
    "$$\\begin{cases}\n",
    "x_{1}+x_{2}-x_{3}=0, \\\\\n",
    "2x_{1}-x_{2}-x_{3}=-2, \\\\\n",
    "4x_{1}+x_{2}-3x_{3}=-2.\n",
    "\\end{cases}$$"
   ]
  },
  {
   "cell_type": "markdown",
   "metadata": {
    "colab_type": "text",
    "id": "e7rubu1hfwtN"
   },
   "source": [
    "__Пример 4__"
   ]
  },
  {
   "cell_type": "markdown",
   "metadata": {
    "colab_type": "text",
    "id": "zAZA0sXotgw3"
   },
   "source": [
    "Представить вектор $b$ в виде суммы векторов $a$:\n",
    "\n",
    "$$\\begin{cases}\n",
    "x_{1}+x_{2}=3, \\\\\n",
    "2x_{1}+3x_{2}=8. \\\\\n",
    "\\end{cases}$$"
   ]
  },
  {
   "cell_type": "markdown",
   "metadata": {
    "colab_type": "text",
    "id": "wlUX8WVIfwqi"
   },
   "source": [
    "__Пример 5__"
   ]
  },
  {
   "cell_type": "markdown",
   "metadata": {
    "colab_type": "text",
    "id": "rAbwWTSkvAZw"
   },
   "source": [
    "Рассмотрим систему, где векторы коэффициентов $a_{1}$ и $a_{2}$ будут линейно зависимы:\n",
    "\n",
    "$$\\begin{cases}\n",
    "x_{1}+2x_{2}=b_{1}, \\\\\n",
    "2x_{1}+4x_{2}=b_{2}.\n",
    "\\end{cases}$$"
   ]
  },
  {
   "cell_type": "markdown",
   "metadata": {
    "colab_type": "text",
    "id": "ZZOEV4dHfwoL"
   },
   "source": [
    "__Пример 6__"
   ]
  },
  {
   "cell_type": "markdown",
   "metadata": {
    "colab_type": "text",
    "id": "uYWF7EIrv2x0"
   },
   "source": [
    "Выясним, будет ли совместной следующая система:\n",
    "\n",
    "$$\\begin{cases}\n",
    "x_{1}+2x_{2}=5, \\\\\n",
    "2x_{1}+4x_{2}=6.\n",
    "\\end{cases}$$"
   ]
  },
  {
   "cell_type": "markdown",
   "metadata": {
    "colab_type": "text",
    "id": "Urjj2kxffwlk"
   },
   "source": [
    "__Пример 7__"
   ]
  },
  {
   "cell_type": "markdown",
   "metadata": {
    "colab_type": "text",
    "id": "b4n7LICPxCFZ"
   },
   "source": [
    "Рассмотрим систему\n",
    "\n",
    "$$\\begin{cases}\n",
    "x_{1}+2x_{2}+4x_{3}=1, \\\\\n",
    "2x_{1}+3x_{2}+7x_{3}=9. \\\\\n",
    "\\end{cases}$$"
   ]
  },
  {
   "cell_type": "markdown",
   "metadata": {
    "colab_type": "text",
    "id": "udRggfoNfwj3"
   },
   "source": [
    "__Пример 8__"
   ]
  },
  {
   "cell_type": "markdown",
   "metadata": {
    "colab_type": "text",
    "id": "A_dHlNTPxOZC"
   },
   "source": [
    "Случай, когда векторы коэффициентов линейно зависимы: \n",
    "\n",
    "$$\\begin{cases}\n",
    "x_{1}+2x_{2}+3x_{3}=b_{1}, \\\\\n",
    "2x_{1}+4x_{2}+6x_{3}=b_{2}, \\\\\n",
    "\\end{cases}$$"
   ]
  },
  {
   "cell_type": "markdown",
   "metadata": {
    "colab_type": "text",
    "id": "UlwXbB2-fwfP"
   },
   "source": [
    "__Пример 9__"
   ]
  },
  {
   "cell_type": "markdown",
   "metadata": {
    "colab_type": "text",
    "id": "hq5fnyS1yFV1"
   },
   "source": [
    "Случай, когда число уравнений больше числа неизвестных\n",
    "и векторы столбцов коэффициентов линейно независимы:\n",
    "\n",
    "$$\\begin{cases}\n",
    "x_{1}+2x_{2}=b_{1}, \\\\\n",
    "2x_{1}+4x_{2}=b_{2}, \\\\\n",
    "3x_{1}+7x_{2}=b_{3}.\n",
    "\\end{cases}$$"
   ]
  },
  {
   "cell_type": "markdown",
   "metadata": {
    "colab_type": "text",
    "id": "Co5wwc2ifwdd"
   },
   "source": [
    "__Пример 10__"
   ]
  },
  {
   "cell_type": "markdown",
   "metadata": {
    "colab_type": "text",
    "id": "2cfOTFcwy-Zq"
   },
   "source": [
    "Случай, когда число уравнений больше числа неизвестных \n",
    "и векторы столбцов коэффициентов линейно зависимы:\n",
    "\n",
    "$$\\begin{cases}\n",
    "x_{1}+2x_{2}=b_{1}, \\\\\n",
    "2x_{1}+4x_{2}=b_{2}, \\\\\n",
    "3x_{1}+6x_{2}=b_{3}, \n",
    "\\end{cases}$$"
   ]
  },
  {
   "cell_type": "markdown",
   "metadata": {
    "colab_type": "text",
    "id": "U-OeuBcnz3xW"
   },
   "source": [
    "__Пример 11__\n",
    "\n",
    "Проверить на совместность и выяснить, сколько решений будет иметь система линейных уравнений, заданная расширенной матрицей\n",
    "\n",
    "$$\\tilde{A}=\\begin{pmatrix}\n",
    "\\left.\\begin{matrix}\n",
    "1 & 2 & 3 & 4\\\\ \n",
    "0 & 5 & 6 & 7\\\\ \n",
    "0 & 0 & 8 & 9\\\\ \n",
    "0 & 0 & 0 & 0\n",
    "\\end{matrix}\\right|\n",
    "\\begin{matrix}\n",
    "1\\\\ \n",
    "2\\\\\n",
    "3\\\\\n",
    "a\n",
    "\\end{matrix}\n",
    "\\end{pmatrix}$$\n",
    "\n",
    "при различных значениях параметра $a$, пользуясь теоремой Кронекера-Капелли."
   ]
  },
  {
   "cell_type": "markdown",
   "metadata": {
    "colab_type": "text",
    "id": "1-bdn0lLeG6f"
   },
   "source": [
    "__Пример 12__"
   ]
  },
  {
   "cell_type": "markdown",
   "metadata": {
    "colab_type": "text",
    "id": "I_Zzi3P2eP9u"
   },
   "source": [
    "Однородная система имеет только тривиальное решение, если ранг матрицы коэффициентов равен количеству неизвестных.\n",
    "Выясним, имеет ли следующая система уравнений нетривиальные решения:\n",
    "\n",
    "$$\\begin{cases}\n",
    "x_{1}-x_{2}+2x_{3}=0, \\\\\n",
    "2x_{1}+x_{2}-3x_{3}=0, \\\\\n",
    "3x_{1}+2x_{3}=0.\n",
    "\\end{cases}$$"
   ]
  },
  {
   "cell_type": "markdown",
   "metadata": {
    "colab_type": "text",
    "id": "r6X6mr9QeUwi"
   },
   "source": [
    "__Пример 13__\n",
    "\n",
    "Решим однородную систему\n",
    "\n",
    "$$\\begin{cases}\n",
    "3x_{1}+4x_{2}-x_{3}=0, \\\\\n",
    "x_{1}-3x_{2}+5x_{3}=0, \\\\\n",
    "4x_{1}+x_{2}+4x_{3}=0.\n",
    "\\end{cases}$$"
   ]
  },
  {
   "cell_type": "markdown",
   "metadata": {
    "colab_type": "text",
    "id": "dtltuTOHeg4a"
   },
   "source": [
    "__Пример 14__\n",
    "\n",
    "Решить методом Крамера систему линейных уравнений\n",
    "\n",
    "$$\\begin{cases}\n",
    "2x_{1}+3x_{2}-x_{3}=4, \\\\\n",
    "x_{1}+x_{2}+3x_{3}=5, \\\\\n",
    "3x_{1}-4x_{2}+x_{3}=0.\n",
    "\\end{cases}$$"
   ]
  }
 ],
 "metadata": {
  "colab": {
   "collapsed_sections": [],
   "name": "Lesson4_tasks_in_class.ipynb",
   "provenance": []
  },
  "kernelspec": {
   "display_name": "Python 3",
   "language": "python",
   "name": "python3"
  },
  "language_info": {
   "codemirror_mode": {
    "name": "ipython",
    "version": 3
   },
   "file_extension": ".py",
   "mimetype": "text/x-python",
   "name": "python",
   "nbconvert_exporter": "python",
   "pygments_lexer": "ipython3",
   "version": "3.7.4"
  }
 },
 "nbformat": 4,
 "nbformat_minor": 1
}
