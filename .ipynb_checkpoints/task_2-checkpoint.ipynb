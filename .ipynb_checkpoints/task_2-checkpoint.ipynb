{
 "cells": [
  {
   "cell_type": "markdown",
   "metadata": {},
   "source": [
    "#### Практическое задание 1"
   ]
  },
  {
   "cell_type": "markdown",
   "metadata": {},
   "source": [
    "1. Установить, какие произведения матриц  𝐴𝐵  и  𝐵𝐴  определены, и найти размерности полученных матриц:  \n",
    "\n",
    "а)  𝐴  — матрица  4×2 ,  𝐵  — матрица  4×2 ; Неопределена.    \n",
    "\n",
    "б)  𝐴  — матрица  2×5 ,  𝐵  — матрица  5×3 ; Размерность 2 х 3 \n",
    "\n",
    "в)  𝐴  — матрица  8×3 ,  𝐵  — матрица  3×8 ; Размерность 8 х 8   \n",
    "\n",
    "г)  𝐴  — квадратная матрица  4×4 ,  𝐵  — квадратная матрица  4×4 Размерность 4 х 4"
   ]
  },
  {
   "cell_type": "code",
   "execution_count": 1,
   "metadata": {},
   "outputs": [],
   "source": [
    "import numpy as np"
   ]
  },
  {
   "cell_type": "markdown",
   "metadata": {},
   "source": [
    "2. Найти сумму и произведение матриц"
   ]
  },
  {
   "cell_type": "code",
   "execution_count": 18,
   "metadata": {},
   "outputs": [
    {
     "name": "stdout",
     "output_type": "stream",
     "text": [
      "Сумма матриц\n",
      " [[ 5 -3]\n",
      " [ 3  5]]\n",
      " Произведение матриц\n",
      " [[4 2]\n",
      " [0 0]]\n"
     ]
    }
   ],
   "source": [
    "a = np.array([[1, -2], [3, 0]])\n",
    "b = np.array([[4, -1], [0, 5]])\n",
    "print(f'Сумма матриц\\n {a + b}\\n Произведение матриц\\n {a * b}')"
   ]
  },
  {
   "cell_type": "markdown",
   "metadata": {},
   "source": [
    "3. Из закономерностей сложения и умножения матриц на число можно сделать вывод, что матрицы одного размера образуют линейное пространство.   \n",
    "Вычислить линейную комбинацию  \n",
    "3𝐴−2𝐵+4𝐶  \n",
    "для матриц  "
   ]
  },
  {
   "cell_type": "code",
   "execution_count": 19,
   "metadata": {},
   "outputs": [
    {
     "data": {
      "text/plain": [
       "array([[ 11,  -5],\n",
       "       [  9, -12]])"
      ]
     },
     "execution_count": 19,
     "metadata": {},
     "output_type": "execute_result"
    }
   ],
   "source": [
    "a1 = np.array([[1, 7], [3, -6]])\n",
    "b1 = np.array([[0, 5], [2, -1]])\n",
    "c = np.array([[2, -4], [1, 1]])\n",
    "3*a1 - 2*b1 + 4*c"
   ]
  },
  {
   "cell_type": "markdown",
   "metadata": {},
   "source": [
    "4. Дана матрица  𝐴 . Вычислить  𝐴𝐴𝑇  и  𝐴𝑇𝐴 ."
   ]
  },
  {
   "cell_type": "code",
   "execution_count": 80,
   "metadata": {},
   "outputs": [
    {
     "name": "stdout",
     "output_type": "stream",
     "text": [
      "AAT\n",
      " [[17 18 11]\n",
      " [18 29  4]\n",
      " [11  4 13]]\n",
      "ATA\n",
      " [[45  0]\n",
      " [ 0 14]]\n"
     ]
    }
   ],
   "source": [
    "a2 = np.array([[4, 1], [5, -2], [2, 3]])\n",
    "AAT = np.dot(a2, a2.T)\n",
    "ATA = np.dot(a2.T, a2)\n",
    "print(\"AAT\\n\", AAT)\n",
    "print(\"ATA\\n\", ATA)"
   ]
  },
  {
   "cell_type": "markdown",
   "metadata": {},
   "source": [
    "5*. Написать на Python функцию для перемножения двух произвольных матриц, не используя NumPy."
   ]
  },
  {
   "cell_type": "code",
   "execution_count": 78,
   "metadata": {},
   "outputs": [
    {
     "name": "stdout",
     "output_type": "stream",
     "text": [
      "Проверка numpy\n",
      " [[30 36]]\n",
      "Решение  [[30, 36]]\n"
     ]
    }
   ],
   "source": [
    "a3 = [[1, 2, 3]]\n",
    "b3 = [[1, 2], [4, 5], [7, 8]]\n",
    "an = np.array(a3)\n",
    "bn = np.array(b3)\n",
    "ab = np.dot(a3, b3)\n",
    "print(\"Проверка numpy\\n\", ab)\n",
    "def dot_matrix(a, b):\n",
    "    if len(a[0]) != len(b):\n",
    "        print('Размерность матриц не подходит для умножения')\n",
    "        return 0\n",
    "    c = [[0 for j in range(len(b[0]))] for i in range(len(a))]\n",
    "    for i in range(len(c)):\n",
    "        for j in range(len(c[0])):\n",
    "            for l in range(len(b)):\n",
    "                c[i][j] += a[i][l]*b[l][j]\n",
    "    print(\"Решение \", c)\n",
    "dot_matrix(a3, b3)"
   ]
  },
  {
   "cell_type": "markdown",
   "metadata": {},
   "source": [
    "#### Практическое задание 2"
   ]
  },
  {
   "cell_type": "markdown",
   "metadata": {},
   "source": [
    "1. Вычислить определитель:  \n",
    "\n",
    "a)"
   ]
  },
  {
   "cell_type": "markdown",
   "metadata": {},
   "source": [
    "|sinx  -cosx|  \n",
    "|cosx   sinx  |"
   ]
  },
  {
   "cell_type": "markdown",
   "metadata": {},
   "source": [
    "Определитель равен sinx ** 2 + cosx ** 2 = 1"
   ]
  },
  {
   "cell_type": "markdown",
   "metadata": {},
   "source": [
    "б)"
   ]
  },
  {
   "cell_type": "code",
   "execution_count": 81,
   "metadata": {},
   "outputs": [
    {
     "data": {
      "text/plain": [
       "180.0"
      ]
     },
     "execution_count": 81,
     "metadata": {},
     "output_type": "execute_result"
    }
   ],
   "source": [
    "d = np.array([[4, 2, 3], [0, 5, 1], [0, 0, 9]])\n",
    "np.linalg.det(d)"
   ]
  },
  {
   "cell_type": "markdown",
   "metadata": {},
   "source": [
    "в)"
   ]
  },
  {
   "cell_type": "code",
   "execution_count": 82,
   "metadata": {},
   "outputs": [
    {
     "data": {
      "text/plain": [
       "-9.51619735392994e-16"
      ]
     },
     "execution_count": 82,
     "metadata": {},
     "output_type": "execute_result"
    }
   ],
   "source": [
    "e = np.array([[1, 2, 3], [4, 5, 6], [7, 8, 9]])\n",
    "np.linalg.det(e)"
   ]
  },
  {
   "cell_type": "markdown",
   "metadata": {},
   "source": [
    "2. Определитель матрицы  𝐴  равен  4 . Найти:  \n",
    "\n",
    "а)  𝑑𝑒𝑡(𝐴2) = 16;  \n",
    "\n",
    "б)  𝑑𝑒𝑡(𝐴𝑇) = 4;  \n",
    "\n",
    "в)  𝑑𝑒𝑡(2𝐴) Не определить, поскольку не известен размер матрицы."
   ]
  },
  {
   "cell_type": "markdown",
   "metadata": {},
   "source": [
    "3. Доказать, что матрица вырожденная."
   ]
  },
  {
   "cell_type": "code",
   "execution_count": 12,
   "metadata": {},
   "outputs": [],
   "source": [
    "f = np.array([[-2, 7, -3], [4, -14, 6], [-3, 7, 13]])"
   ]
  },
  {
   "cell_type": "markdown",
   "metadata": {},
   "source": [
    "4. Найти ранг матрицы:"
   ]
  },
  {
   "cell_type": "markdown",
   "metadata": {},
   "source": [
    "а)"
   ]
  },
  {
   "cell_type": "code",
   "execution_count": 83,
   "metadata": {},
   "outputs": [
    {
     "data": {
      "text/plain": [
       "2"
      ]
     },
     "execution_count": 83,
     "metadata": {},
     "output_type": "execute_result"
    }
   ],
   "source": [
    "g = np.array([[1, 2, 3], [1, 1, 1], [2, 3, 4]])\n",
    "np.linalg.matrix_rank(g)"
   ]
  },
  {
   "cell_type": "markdown",
   "metadata": {},
   "source": [
    "б)"
   ]
  },
  {
   "cell_type": "code",
   "execution_count": 84,
   "metadata": {},
   "outputs": [
    {
     "data": {
      "text/plain": [
       "3"
      ]
     },
     "execution_count": 84,
     "metadata": {},
     "output_type": "execute_result"
    }
   ],
   "source": [
    "h = np.array([[0, 0, 2, 1], [0, 0, 2, 2], [0, 0, 4, 3], [2, 3, 5, 6]])\n",
    "np.linalg.matrix_rank(h)"
   ]
  },
  {
   "cell_type": "code",
   "execution_count": null,
   "metadata": {},
   "outputs": [],
   "source": []
  }
 ],
 "metadata": {
  "kernelspec": {
   "display_name": "Python 3",
   "language": "python",
   "name": "python3"
  },
  "language_info": {
   "codemirror_mode": {
    "name": "ipython",
    "version": 3
   },
   "file_extension": ".py",
   "mimetype": "text/x-python",
   "name": "python",
   "nbconvert_exporter": "python",
   "pygments_lexer": "ipython3",
   "version": "3.7.4"
  }
 },
 "nbformat": 4,
 "nbformat_minor": 2
}
