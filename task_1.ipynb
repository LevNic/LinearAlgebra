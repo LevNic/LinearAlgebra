{
 "cells": [
  {
   "cell_type": "markdown",
   "metadata": {},
   "source": [
    "### Методичка 1"
   ]
  },
  {
   "cell_type": "markdown",
   "metadata": {},
   "source": [
    "1. Исследовать на линейную зависимость:  \n",
    "\n",
    "𝑓1(𝑥)=𝑒𝑥,𝑓2(𝑥)=1,𝑓3(𝑥)=𝑥+1,𝑓4(𝑥)=𝑥−𝑒𝑥."
   ]
  },
  {
   "cell_type": "markdown",
   "metadata": {},
   "source": [
    "f4(x) = f3(x) - f2(x) - f1(x) или  f3(x) - f2(x) - f1(x) - f4(x) = 0 \n",
    "\n",
    "Следовательно вектора линейно зависимы"
   ]
  },
  {
   "cell_type": "markdown",
   "metadata": {},
   "source": [
    "2. Исследовать на линейную зависимость:  \n",
    "\n",
    "𝑓1(𝑥)=2,𝑓2(𝑥)=𝑥,𝑓3(𝑥)=𝑥^2,𝑓4(𝑥)=(𝑥+1)^2."
   ]
  },
  {
   "cell_type": "markdown",
   "metadata": {},
   "source": [
    "f4(x) = x^2 + 2x + 1;   \n",
    "f4(x) = f3(x) + f1(x) * f2(x) + 1;   \n",
    "f4(x) - f3(x) - f1(x) * f2(x) = 1;  \n",
    "\n",
    "Вектора линейно независимы."
   ]
  },
  {
   "cell_type": "markdown",
   "metadata": {},
   "source": [
    "3. Найти координаты вектора  \n",
    "\n",
    "𝑥=(2,3,5)∈ℝ3  в базисе  𝑏1=(0,0,10) ,  𝑏2=(2,0,0) ,  𝑏3=(0,1,0) ."
   ]
  },
  {
   "cell_type": "markdown",
   "metadata": {},
   "source": [
    "координаты (4, 3, 50)"
   ]
  },
  {
   "cell_type": "markdown",
   "metadata": {},
   "source": [
    "4. Найти координаты вектора  3𝑥2−2𝑥+2∈ℝ3[𝑥] :  \n",
    "\n",
    "а) в базисе  1 ,  𝑥 ,  𝑥2;  \n",
    "\n",
    "б) в базисе  𝑥2 ,  𝑥−1 ,  1 .  "
   ]
  },
  {
   "cell_type": "code",
   "execution_count": null,
   "metadata": {},
   "outputs": [],
   "source": []
  },
  {
   "cell_type": "markdown",
   "metadata": {},
   "source": [
    "5. Установить, является ли линейным подпространством:  \n",
    "\n",
    "а) совокупность всех векторов трехмерного пространства, у которых по крайней мере одна из первых двух координат равна нулю;  \n",
    "\n",
    "б) все векторы, являющиеся линейными комбинациями данных векторов  {𝑢1,𝑢2,...,𝑢𝑛} ."
   ]
  },
  {
   "cell_type": "markdown",
   "metadata": {},
   "source": [
    "a) является  \n",
    "б) не является"
   ]
  },
  {
   "cell_type": "markdown",
   "metadata": {},
   "source": [
    "### Методичка 2"
   ]
  },
  {
   "cell_type": "markdown",
   "metadata": {},
   "source": [
    "1. Найти скалярное произведение векторов  𝑥,𝑦∈ℝ :  \n",
    "а)  𝑥=(0,−3,6), 𝑦=(−4,7,9);   \n",
    "б)  𝑥=(7,−4,0,1), 𝑦=(−3,1,11,2)."
   ]
  },
  {
   "cell_type": "code",
   "execution_count": 1,
   "metadata": {},
   "outputs": [],
   "source": [
    "import numpy as np"
   ]
  },
  {
   "cell_type": "code",
   "execution_count": 3,
   "metadata": {},
   "outputs": [
    {
     "name": "stdout",
     "output_type": "stream",
     "text": [
      "Скалярное произведение x и y:\n",
      "33\n"
     ]
    }
   ],
   "source": [
    "xa = np.array([0, -3, 6])\n",
    "ya = np.array([-4, 7, 9])\n",
    "print(f'Скалярное произведение x и y:\\n{np.dot(xa, ya)}')"
   ]
  },
  {
   "cell_type": "code",
   "execution_count": 4,
   "metadata": {},
   "outputs": [
    {
     "name": "stdout",
     "output_type": "stream",
     "text": [
      "Скалярное произведение x и y:\n",
      "-23\n"
     ]
    }
   ],
   "source": [
    "xb = np.array([7, -4, 0, 1])\n",
    "yb = np.array([-3, 1, 11, 2])\n",
    "print(f'Скалярное произведение x и y:\\n{np.dot(xb, yb)}')"
   ]
  },
  {
   "cell_type": "markdown",
   "metadata": {},
   "source": [
    "2. Найти нормы векторов  (4,2,4)  и  (12,3,4)  и угол между ними."
   ]
  },
  {
   "cell_type": "code",
   "execution_count": 5,
   "metadata": {},
   "outputs": [],
   "source": [
    "from numpy.linalg import norm"
   ]
  },
  {
   "cell_type": "code",
   "execution_count": 6,
   "metadata": {},
   "outputs": [],
   "source": [
    "a = np.array([4, 2, 4])\n",
    "b = np.array([12, 3, 4])"
   ]
  },
  {
   "cell_type": "code",
   "execution_count": 7,
   "metadata": {},
   "outputs": [
    {
     "name": "stdout",
     "output_type": "stream",
     "text": [
      "l1(манхеттенская) норма вектора a:\n",
      "10.0\n"
     ]
    }
   ],
   "source": [
    "print(f'l1(манхеттенская) норма вектора a:\\n{norm(a, ord=1)}')"
   ]
  },
  {
   "cell_type": "code",
   "execution_count": 8,
   "metadata": {},
   "outputs": [
    {
     "name": "stdout",
     "output_type": "stream",
     "text": [
      "l1(манхеттенская) норма вектора b:\n",
      "19.0\n"
     ]
    }
   ],
   "source": [
    "print(f'l1(манхеттенская) норма вектора b:\\n{norm(b, ord=1)}')"
   ]
  },
  {
   "cell_type": "code",
   "execution_count": 9,
   "metadata": {},
   "outputs": [
    {
     "name": "stdout",
     "output_type": "stream",
     "text": [
      "l2(евклидова) норма вектора a:\n",
      "6.0\n"
     ]
    }
   ],
   "source": [
    "print(f'l2(евклидова) норма вектора a:\\n{norm(a, ord=2)}')"
   ]
  },
  {
   "cell_type": "code",
   "execution_count": 10,
   "metadata": {},
   "outputs": [
    {
     "name": "stdout",
     "output_type": "stream",
     "text": [
      "l2(евклидова) норма вектора b:\n",
      "13.0\n"
     ]
    }
   ],
   "source": [
    "print(f'l2(евклидова) норма вектора b:\\n{norm(b, ord=2)}')"
   ]
  },
  {
   "cell_type": "code",
   "execution_count": 11,
   "metadata": {},
   "outputs": [
    {
     "name": "stdout",
     "output_type": "stream",
     "text": [
      "Косинус угла между a и b: 0.90\n",
      "Угол между a и b: 0.46\n"
     ]
    }
   ],
   "source": [
    "cos_phi = np.dot(a, b) / norm(a) / norm(b)\n",
    "print(f'Косинус угла между a и b: {cos_phi:.2f}')\n",
    "print(f'Угол между a и b: {np.arccos(cos_phi):.2f}')"
   ]
  },
  {
   "cell_type": "markdown",
   "metadata": {},
   "source": [
    "3. Будет ли линейное пространство евклидовым, если за скалярное произведение принять:  \n",
    "а) произведение длин векторов;  \n",
    "б) утроенное обычное скалярное произведение векторов?"
   ]
  },
  {
   "cell_type": "markdown",
   "metadata": {},
   "source": [
    "4. Какие из нижеперечисленных векторов образуют ортонормированный базис в линейном пространстве  ℝ3 :  \n",
    "а)  (1,0,0),(0,0,1);   \n",
    "б)  (1/2‾√,−1/2‾√,0),(1/2‾√,1/2‾√,0),(0,0,1);   \n",
    "в)  (1/2,−1/2,0),(0,1/2,1/2),(0,0,1);   \n",
    "г)  (1,0,0),(0,1,0),(0,0,1)?"
   ]
  },
  {
   "cell_type": "markdown",
   "metadata": {},
   "source": [
    "г"
   ]
  },
  {
   "cell_type": "code",
   "execution_count": null,
   "metadata": {},
   "outputs": [],
   "source": []
  }
 ],
 "metadata": {
  "kernelspec": {
   "display_name": "Python 3",
   "language": "python",
   "name": "python3"
  },
  "language_info": {
   "codemirror_mode": {
    "name": "ipython",
    "version": 3
   },
   "file_extension": ".py",
   "mimetype": "text/x-python",
   "name": "python",
   "nbconvert_exporter": "python",
   "pygments_lexer": "ipython3",
   "version": "3.7.4"
  }
 },
 "nbformat": 4,
 "nbformat_minor": 2
}
